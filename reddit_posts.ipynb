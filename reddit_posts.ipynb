{
 "cells": [
  {
   "cell_type": "markdown",
   "id": "eb6ede70",
   "metadata": {},
   "source": [
    "# Successful Reddit Posts\n",
    "\n",
    "The file `askscience_data.csv` is a collection of posts from the subreddit r/askscience. The task comes with two parts:\n",
    "\n",
    "1. Determine the attributes of a successful post on r/askscience\n",
    "2. Build a model that can predict the score of a post on r/askscience given at least the title and body of the post."
   ]
  },
  {
   "cell_type": "markdown",
   "id": "49b3a669",
   "metadata": {},
   "source": [
    "## Part 1: Determine the Attributes of A Successful Post\n",
    "Our data comes in a tabular format with the following columns:\n",
    "|id|title|body|tag|datetime|author|score|upvote_ratio|url|\n",
    "|---|---|---|---|---|---|---|---|---|\n",
    "|-|IV|IV|IV|IV|-|T|-|-|\n",
    "\n",
    "The columns `[id, author, url]` are not considered for analysis since they are all identifiers. Perhaps we could use `author` if we had some information on them, which is not the case for this experiment. The column `upvote_ratio` is not also considered as it is highly correlated with the target variable `score` (r = 0.55).\n",
    "\n",
    "To find the attributes that contribute the most to the success of a post, I include the features one by one and examine their effects in improving the models' performance.\n",
    "\n",
    "To annotate the reddit posts as **_successful_**, I use the threshold **score $\\ge$ 100**, which results in a balanced dataset of positive and negative samples.\n",
    "\n",
    "For all the analysis, 80% of the data (randomly chosen) are used for training and the performance of models and features are tested on the remaining 20%."
   ]
  },
  {
   "cell_type": "markdown",
   "id": "5cf7c205",
   "metadata": {},
   "source": [
    "### Methodology\n",
    "Previous works have suggested the following features for similar tasks:\n",
    "|Column|Feature|Source|\n",
    "|---|---|---|\n",
    "|title|TF-IDF, BoW|\\[1\\]|\n",
    "|body|TF-IDF, BoW|\\[2\\]|\n",
    "|datetime|hour of day|\\[3\\]|\n",
    "\n",
    "I introduce one-hot-encoding for `tag` column, as there are only 33 unique tags in our dataset.\n",
    "\n",
    "I also show how to learn and use _Embeddings_ for this dataset for a deep neural network (see my notes for _deep neural networks_).\n",
    "\n",
    "...<br>\n",
    "$_{\\text{[1] \"Classifying reddit post titles to subreddit\"}}$<br>\n",
    "$_{\\text{[2] \"What's in the name? Understanding the interplay between titles, content, and communities in social media.\"}}$<br>\n",
    "$_{\\text{[3] \"Widespread underprovision on reddit.\"}}$"
   ]
  },
  {
   "cell_type": "markdown",
   "id": "b88d522b",
   "metadata": {},
   "source": [
    "### Results\n",
    "Different models were trained and evaluated on the test set (20% randomly chosen). The results are shown below:\n",
    "\n",
    "|Attributes|Model|Accuracy|\n",
    "|---|---|---|\n",
    "|title|Logistic Regression|61%|\n",
    "|title|Random Forest|71%|\n",
    "|title|SVM + RBF kernel|**74%**|\n",
    "|title|Embedding + DN|58%|\n",
    "||||\n",
    "|title + body|Logistic Regression|63%|\n",
    "|title + body|Random Forest|72%|\n",
    "|title + body|SVM + RBF kernel|**73%**|\n",
    "||||\n",
    "|title + tag| Logistic Regression | 63% |\n",
    "|title + tag| Random Forest | **73%** |\n",
    "|title + tag| SVM + RBF kernel | 71%|\n",
    "||||\n",
    "|title + datetime| Logistic Regression | 62% |\n",
    "|title + datetime| Random Forest | **74%** |\n",
    "|title + datetime| SVM + RBF kernel | 59% |\n",
    "||||\n",
    "|title + tag + datetime| Logistic Regression | 65% |\n",
    "|title + tag + datetime| Random Forest | **75%** |\n",
    "|title + tag + datetime| SVM + RBF kernel | 60% |\n",
    "\n",
    "**Conclusion:**\n",
    "* The most important attribute for a successful post is the `title` of the post.\n",
    "* Including `body` added no (or negligible) benefit to the classification task.\n",
    "* `tag` and `datetime` seemed to have positive effects (more obvious for the linear model), but they were not significant."
   ]
  },
  {
   "cell_type": "markdown",
   "id": "91fabed0",
   "metadata": {},
   "source": [
    "### Notes\n",
    "There are several areas that could potentially improve the overall quality of this experiment:\n",
    "* I performed hyperparameter tuning for all the mentioned methods (especially, for Random Forest and DN); however, due to time limitation, more thorough hyperparameter tuning were not conducted.\n",
    "* I did a quick research on the features proposed in this domain, but perhaps there were many more that I did not find at the moment. So, I limited the feature engineering aspect to those explained in the _Methodology_ section.\n",
    "* I implemented the **Embedding + Deep Neural Network** just to demonstrate how I would approach this problem in this domain. However, the amount of available data were not sufficient for creating a model from scratch. I believe using a pretrained model for similar tasks, in addition to the network I introduced in this section as the top layer, could achieve a better result. At the moment, I could not find a relevant model to experiment my hypothesis.\n",
    "\n",
    "Please see my codes for this part of the takehome below, after \"Part 2\"."
   ]
  },
  {
   "cell_type": "markdown",
   "id": "b017e75d",
   "metadata": {},
   "source": [
    "## Part 2: Build a Model to Predict Reddit Post Scores\n",
    "For this part of the task, I use the same datasets that I created for the previous part. Since we are predicting a numerical value (`score`), I consider this as a regression problem.\n",
    "\n",
    "There are some outliers in our data (`score` > 20,000) that will have a huge impact on our model's performance. For my analysis, I excluded those samples.\n",
    "\n",
    "The best performance was achieved by Linear Regression model on `title` and `hour` dataset. However, the performance was far from ideal (rMSE=4665). The result was expected since\n",
    "* The number of features were too high for Random Forest.\n",
    "* The features (TF-IDF) had no linear relationship with the target variable.\n",
    "* SVM with RBF kernel calculates similarities between data points; therefore, the dimensionality would be reduced. However, that does not mean that it would find the right \"decision street\".\n"
   ]
  },
  {
   "cell_type": "markdown",
   "id": "0eb62692",
   "metadata": {},
   "source": [
    "### Improvements (future works)\n",
    "Some improvements come to my mind:\n",
    "\n",
    "1. As was found in data exploration, almost 40% of our samples have `score` <5. Therefore, a cascaded model could be beneficial for increasing our models' predictions; i.e., a classifier would predict whether a post is _ignored_ or not (`score` < 5), and then the label would be fed to the regression model as an independent variable.\n",
    "2. Although TF-IDF features determine the importance of some words that are helpful for identifying \"succesful\" posts, it does not provide enough information to predict the \"score\" itself. Therefore, better features should be calculated. (I did not find relevant works for this, but my research on this topic was not thorough. Perhaps there are related works that I missed)\n",
    "3. Some works suggested some type of \"sentiment analysis\" as a feature for predicting \"popularity\". Although, those are not exactly aiming for predicting \"score\" values, such feature could be beneficial here as well. That brings me to the point I mentioned for the classification task too. A relevant base model for calculating embeddings/feature vectors, could help in building a neural network that was more suitable for this task."
   ]
  },
  {
   "cell_type": "markdown",
   "id": "8f7d1707",
   "metadata": {},
   "source": [
    "## Data Preparation"
   ]
  },
  {
   "cell_type": "code",
   "execution_count": 86,
   "id": "115bec3e",
   "metadata": {},
   "outputs": [
    {
     "data": {
      "text/html": [
       "<div>\n",
       "<style scoped>\n",
       "    .dataframe tbody tr th:only-of-type {\n",
       "        vertical-align: middle;\n",
       "    }\n",
       "\n",
       "    .dataframe tbody tr th {\n",
       "        vertical-align: top;\n",
       "    }\n",
       "\n",
       "    .dataframe thead th {\n",
       "        text-align: right;\n",
       "    }\n",
       "</style>\n",
       "<table border=\"1\" class=\"dataframe\">\n",
       "  <thead>\n",
       "    <tr style=\"text-align: right;\">\n",
       "      <th></th>\n",
       "      <th>Unnamed: 0</th>\n",
       "      <th>title</th>\n",
       "      <th>body</th>\n",
       "      <th>tag</th>\n",
       "      <th>datetime</th>\n",
       "      <th>author</th>\n",
       "      <th>score</th>\n",
       "      <th>upvote_ratio</th>\n",
       "      <th>url</th>\n",
       "    </tr>\n",
       "  </thead>\n",
       "  <tbody>\n",
       "    <tr>\n",
       "      <th>0</th>\n",
       "      <td>0</td>\n",
       "      <td>Post viral cough: why does it get worse after ...</td>\n",
       "      <td>Tl;dr: why is your cough during an upper respi...</td>\n",
       "      <td>Human Body</td>\n",
       "      <td>2022-12-09 02:52:07</td>\n",
       "      <td>CarboniferousCreek</td>\n",
       "      <td>1343.0</td>\n",
       "      <td>0.93</td>\n",
       "      <td>https://www.reddit.com/r/askscience/comments/z...</td>\n",
       "    </tr>\n",
       "    <tr>\n",
       "      <th>1</th>\n",
       "      <td>1</td>\n",
       "      <td>Can an x-ray of an adult show chronic malnouri...</td>\n",
       "      <td>If a person was chronically undernourished thr...</td>\n",
       "      <td>Human Body</td>\n",
       "      <td>2022-12-08 18:28:51</td>\n",
       "      <td>Foxs-In-A-Trenchcoat</td>\n",
       "      <td>426.0</td>\n",
       "      <td>0.91</td>\n",
       "      <td>https://www.reddit.com/r/askscience/comments/z...</td>\n",
       "    </tr>\n",
       "    <tr>\n",
       "      <th>2</th>\n",
       "      <td>2</td>\n",
       "      <td>[META] Bots and AI tools on r/askscience</td>\n",
       "      <td>\\n\\nOver the past few days we have seen a sur...</td>\n",
       "      <td>META</td>\n",
       "      <td>2022-12-08 09:04:25</td>\n",
       "      <td>AskScienceModerator</td>\n",
       "      <td>2218.0</td>\n",
       "      <td>0.92</td>\n",
       "      <td>https://www.reddit.com/r/askscience/comments/z...</td>\n",
       "    </tr>\n",
       "    <tr>\n",
       "      <th>3</th>\n",
       "      <td>3</td>\n",
       "      <td>Can you predictably manipulate a magnetic gas?</td>\n",
       "      <td>Does there exist a gas that changes in respons...</td>\n",
       "      <td>Physics</td>\n",
       "      <td>2022-12-08 20:01:53</td>\n",
       "      <td>hufsa7</td>\n",
       "      <td>48.0</td>\n",
       "      <td>0.83</td>\n",
       "      <td>https://www.reddit.com/r/askscience/comments/z...</td>\n",
       "    </tr>\n",
       "    <tr>\n",
       "      <th>4</th>\n",
       "      <td>4</td>\n",
       "      <td>Are there cells in humans (or other mammals) t...</td>\n",
       "      <td>NaN</td>\n",
       "      <td>Medicine</td>\n",
       "      <td>2022-12-09 01:11:34</td>\n",
       "      <td>Velym</td>\n",
       "      <td>14.0</td>\n",
       "      <td>0.89</td>\n",
       "      <td>https://www.reddit.com/r/askscience/comments/z...</td>\n",
       "    </tr>\n",
       "  </tbody>\n",
       "</table>\n",
       "</div>"
      ],
      "text/plain": [
       "   Unnamed: 0                                              title  \\\n",
       "0           0  Post viral cough: why does it get worse after ...   \n",
       "1           1  Can an x-ray of an adult show chronic malnouri...   \n",
       "2           2           [META] Bots and AI tools on r/askscience   \n",
       "3           3     Can you predictably manipulate a magnetic gas?   \n",
       "4           4  Are there cells in humans (or other mammals) t...   \n",
       "\n",
       "                                                body         tag  \\\n",
       "0  Tl;dr: why is your cough during an upper respi...  Human Body   \n",
       "1  If a person was chronically undernourished thr...  Human Body   \n",
       "2   \\n\\nOver the past few days we have seen a sur...        META   \n",
       "3  Does there exist a gas that changes in respons...     Physics   \n",
       "4                                                NaN    Medicine   \n",
       "\n",
       "              datetime                author   score  upvote_ratio  \\\n",
       "0  2022-12-09 02:52:07    CarboniferousCreek  1343.0          0.93   \n",
       "1  2022-12-08 18:28:51  Foxs-In-A-Trenchcoat   426.0          0.91   \n",
       "2  2022-12-08 09:04:25   AskScienceModerator  2218.0          0.92   \n",
       "3  2022-12-08 20:01:53                hufsa7    48.0          0.83   \n",
       "4  2022-12-09 01:11:34                 Velym    14.0          0.89   \n",
       "\n",
       "                                                 url  \n",
       "0  https://www.reddit.com/r/askscience/comments/z...  \n",
       "1  https://www.reddit.com/r/askscience/comments/z...  \n",
       "2  https://www.reddit.com/r/askscience/comments/z...  \n",
       "3  https://www.reddit.com/r/askscience/comments/z...  \n",
       "4  https://www.reddit.com/r/askscience/comments/z...  "
      ]
     },
     "execution_count": 86,
     "metadata": {},
     "output_type": "execute_result"
    }
   ],
   "source": [
    "import pandas as pd\n",
    "import numpy as np\n",
    "\n",
    "df = pd.read_csv('askscience_data.csv')\n",
    "df.head()"
   ]
  },
  {
   "cell_type": "markdown",
   "id": "6203fd93",
   "metadata": {},
   "source": [
    "#### Split the data into training and test sets\n",
    "I set aside 20% of data (randomly chosen) as the test set."
   ]
  },
  {
   "cell_type": "code",
   "execution_count": 87,
   "id": "205664a5",
   "metadata": {},
   "outputs": [
    {
     "name": "stdout",
     "output_type": "stream",
     "text": [
      "training set size: 3364\tvs\ttest set size: 841\n"
     ]
    }
   ],
   "source": [
    "from sklearn.model_selection import train_test_split\n",
    "np.random.seed(42)\n",
    "\n",
    "train_df_raw, test_df_raw = train_test_split(df, test_size=0.2, random_state=42)\n",
    "print(f'training set size: {train_df_raw.shape[0]}\\tvs\\ttest set size: {test_df_raw.shape[0]}')"
   ]
  },
  {
   "cell_type": "markdown",
   "id": "fe4077d5",
   "metadata": {},
   "source": [
    "#### Data exploration\n",
    "Let's check the correlation between `upvote_ratio` and `score`."
   ]
  },
  {
   "cell_type": "code",
   "execution_count": 9,
   "id": "5885bf13",
   "metadata": {},
   "outputs": [
    {
     "name": "stdout",
     "output_type": "stream",
     "text": [
      "There is a 0.5501576124022011 correlation between upvote_ratio and score.\n"
     ]
    }
   ],
   "source": [
    "import numpy as np\n",
    "\n",
    "r = np.corrcoef(train_df_raw.upvote_ratio, train_df_raw.score)\n",
    "print(f'There is a {r[0][1]} correlation between upvote_ratio and score.')"
   ]
  },
  {
   "cell_type": "markdown",
   "id": "74f2bd0d",
   "metadata": {},
   "source": [
    "Now, let's look at the distribution of `score` values for our samples."
   ]
  },
  {
   "cell_type": "code",
   "execution_count": 10,
   "id": "18cae317",
   "metadata": {},
   "outputs": [
    {
     "data": {
      "text/plain": [
       "<Axes: >"
      ]
     },
     "execution_count": 10,
     "metadata": {},
     "output_type": "execute_result"
    },
    {
     "data": {
      "image/png": "[encoded data removed]",
      "text/plain": [
       "<Figure size 640x480 with 1 Axes>"
      ]
     },
     "metadata": {},
     "output_type": "display_data"
    }
   ],
   "source": [
    "train_df_raw.score.hist(bins=50)"
   ]
  },
  {
   "cell_type": "markdown",
   "id": "77b9298d",
   "metadata": {},
   "source": [
    "Almost half of the data have `score` $\\le$ 100. There are also ~50 samples that have a very high `score` value (>20,000), and should be considered as outliers for the regression tasks."
   ]
  },
  {
   "cell_type": "markdown",
   "id": "689da3a1",
   "metadata": {},
   "source": [
    "#### Data annotation and feature engineering\n",
    "* We define positive class as `score > 100`.\n",
    "* We calculate the following features:\n",
    "    * TF-IDF representation for title.\n",
    "    * TF-IDF representation for title and body (concatenated).\n",
    "    * One-hot-encoding for tag.\n",
    "    * Hour from datetime."
   ]
  },
  {
   "cell_type": "code",
   "execution_count": 88,
   "id": "97d73319",
   "metadata": {},
   "outputs": [
    {
     "name": "stdout",
     "output_type": "stream",
     "text": [
      "Data are annotated based on the score values.\n"
     ]
    }
   ],
   "source": [
    "train_df_raw['successful'] = np.where(train_df_raw['score'] > 100, True, False)\n",
    "test_df_raw['successful'] = np.where(test_df_raw['score'] > 100, True, False)\n",
    "print(\"Data are annotated based on the score values.\")"
   ]
  },
  {
   "cell_type": "markdown",
   "id": "10827efc",
   "metadata": {},
   "source": [
    "First, we create a dataset considering only the title of posts."
   ]
  },
  {
   "cell_type": "code",
   "execution_count": 89,
   "id": "8bb1fba9",
   "metadata": {},
   "outputs": [
    {
     "name": "stderr",
     "output_type": "stream",
     "text": [
      "[nltk_data] Downloading package stopwords to /Users/matin/nltk_data...\n",
      "[nltk_data]   Package stopwords is already up-to-date!\n",
      "[nltk_data] Downloading package wordnet to /Users/matin/nltk_data...\n",
      "[nltk_data]   Package wordnet is already up-to-date!\n"
     ]
    }
   ],
   "source": [
    "import nltk\n",
    "import re\n",
    "from nltk.stem import WordNetLemmatizer\n",
    "\n",
    "import nltk\n",
    "nltk.download(\"stopwords\")\n",
    "nltk.download('wordnet')\n",
    "\n",
    "def removeStopWords(texts):\n",
    "    stopwords = nltk.corpus.stopwords.words('english')\n",
    "    lemmatizer = WordNetLemmatizer()\n",
    "    \n",
    "    clean_texts = []\n",
    "    for i in range(len(texts)):\n",
    "        text = texts[i]\n",
    "        clean_text = re.sub('[^a-zA-Z]', ' ', str(text))\n",
    "        clean_text = clean_text.lower()\n",
    "        clean_text = clean_text.split()\n",
    "        clean_text = [lemmatizer.lemmatize(word) for word in clean_text if word not in set(stopwords)]\n",
    "        clean_text = ' '.join(clean_text)\n",
    "        clean_texts.append(clean_text)\n",
    "\n",
    "    return clean_texts"
   ]
  },
  {
   "cell_type": "code",
   "execution_count": 90,
   "id": "2b2585aa",
   "metadata": {},
   "outputs": [],
   "source": [
    "train_titles = removeStopWords(train_df_raw.title.values)\n",
    "test_titles = removeStopWords(test_df_raw.title.values)"
   ]
  },
  {
   "cell_type": "code",
   "execution_count": 91,
   "id": "45c972d4",
   "metadata": {},
   "outputs": [],
   "source": [
    "# TF-IDF\n",
    "from sklearn.feature_extraction.text import TfidfVectorizer\n",
    "\n",
    "tf_idf_vectorizer = TfidfVectorizer()\n",
    "tf_idf_vectorizer.fit(train_titles)\n",
    "\n",
    "train_title_tfidf = tf_idf_vectorizer.transform(train_titles)\n",
    "test_title_tfidf = tf_idf_vectorizer.transform(test_titles)"
   ]
  },
  {
   "cell_type": "code",
   "execution_count": 92,
   "id": "db72e38e",
   "metadata": {},
   "outputs": [],
   "source": [
    "column_names = ['tfidf_{}'.format(i) for i in range(train_title_tfidf.shape[1])]\n",
    "train_title_df = pd.DataFrame(train_title_tfidf.toarray(), columns=column_names)\n",
    "train_title_df['successful'] = train_df_raw.successful.values\n",
    "test_title_df = pd.DataFrame(test_title_tfidf.toarray(), columns=column_names)\n",
    "test_title_df['successful'] = test_df_raw.successful.values"
   ]
  },
  {
   "cell_type": "markdown",
   "id": "7a9f80d6",
   "metadata": {},
   "source": [
    "Next, we create a dataset for title and body."
   ]
  },
  {
   "cell_type": "code",
   "execution_count": 93,
   "id": "960aafd2",
   "metadata": {},
   "outputs": [],
   "source": [
    "def concatenateTitleAndBody(titles, bodies):\n",
    "    result = []\n",
    "    for i in range(len(titles)):\n",
    "        title = titles[i]\n",
    "        body = bodies[i]\n",
    "        if str(body) == 'nan':\n",
    "            result.append(title)\n",
    "            continue\n",
    "        result.append(title + ' ' + body)\n",
    "    return result"
   ]
  },
  {
   "cell_type": "code",
   "execution_count": 94,
   "id": "bc7fb64f",
   "metadata": {},
   "outputs": [],
   "source": [
    "train_titles_bodies = removeStopWords(concatenateTitleAndBody(train_df_raw.title.values, train_df_raw.body.values))\n",
    "test_titles_bodies = removeStopWords(concatenateTitleAndBody(test_df_raw.title.values, test_df_raw.body.values))"
   ]
  },
  {
   "cell_type": "code",
   "execution_count": 95,
   "id": "8aad1fa0",
   "metadata": {},
   "outputs": [],
   "source": [
    "# TF-IDF\n",
    "from sklearn.feature_extraction.text import TfidfVectorizer\n",
    "\n",
    "tf_idf_vectorizer = TfidfVectorizer()\n",
    "tf_idf_vectorizer.fit(train_titles_bodies)\n",
    "\n",
    "train_titlebody_tfidf = tf_idf_vectorizer.transform(train_titles_bodies)\n",
    "test_titlebody_tfidf = tf_idf_vectorizer.transform(test_titles_bodies)"
   ]
  },
  {
   "cell_type": "code",
   "execution_count": 96,
   "id": "6e19b430",
   "metadata": {},
   "outputs": [],
   "source": [
    "column_names = ['tfidf_{}'.format(i) for i in range(train_titlebody_tfidf.shape[1])]\n",
    "train_titlebody_df = pd.DataFrame(train_titlebody_tfidf.toarray(), columns=column_names)\n",
    "train_titlebody_df['successful'] = train_df_raw.successful.values\n",
    "test_titlebody_df = pd.DataFrame(test_titlebody_tfidf.toarray(), columns=column_names)\n",
    "test_titlebody_df['successful'] = test_df_raw.successful.values"
   ]
  },
  {
   "cell_type": "markdown",
   "id": "b809e038",
   "metadata": {},
   "source": [
    "Next, we create a dataset considering titles and tags."
   ]
  },
  {
   "cell_type": "code",
   "execution_count": 97,
   "id": "bddfe97b",
   "metadata": {},
   "outputs": [],
   "source": [
    "from sklearn.preprocessing import OneHotEncoder\n",
    "\n",
    "one_hot_encoder = OneHotEncoder(dtype=np.int16, handle_unknown='infrequent_if_exist')\n",
    "one_hot_encoder.fit(train_df_raw.tag.values.reshape(-1, 1))\n",
    "\n",
    "training_tag_encodings = one_hot_encoder.transform(train_df_raw.tag.values.reshape(-1, 1))\n",
    "tag_columns = [\"tag_{}\".format(i) for i in range(training_tag_encodings.shape[1])]\n",
    "training_tags_df = pd.DataFrame(training_tag_encodings.toarray(), columns=tag_columns)\n",
    "\n",
    "test_tag_encodings = one_hot_encoder.transform(test_df_raw.tag.values.reshape(-1, 1))\n",
    "test_tags_df = pd.DataFrame(test_tag_encodings.toarray(), columns=tag_columns)"
   ]
  },
  {
   "cell_type": "code",
   "execution_count": 98,
   "id": "b21477be",
   "metadata": {},
   "outputs": [],
   "source": [
    "train_titletag_df = pd.concat([train_title_df, training_tags_df], axis=1)\n",
    "test_titletag_df = pd.concat([test_title_df, test_tags_df], axis=1)"
   ]
  },
  {
   "cell_type": "markdown",
   "id": "75dcbace",
   "metadata": {},
   "source": [
    "Next, we create a dataset from `title` and `datetime` attributes."
   ]
  },
  {
   "cell_type": "code",
   "execution_count": 99,
   "id": "ae05a735",
   "metadata": {},
   "outputs": [],
   "source": [
    "import datetime\n",
    "from datetime import datetime\n",
    "\n",
    "def timeOfDay(date_and_times):\n",
    "    time_of_days = []\n",
    "    for date_and_time in date_and_times:\n",
    "        datetime_obj = datetime.strptime(date_and_time, \"%Y-%m-%d %H:%M:%S\")\n",
    "        time_of_days.append(datetime_obj.hour)\n",
    "        \n",
    "    return time_of_days"
   ]
  },
  {
   "cell_type": "code",
   "execution_count": 100,
   "id": "e98887ab",
   "metadata": {},
   "outputs": [],
   "source": [
    "train_titlehour_df = train_title_df.copy()\n",
    "train_titlehour_df['hour'] = timeOfDay(train_df_raw.datetime.values)\n",
    "test_titlehour_df = test_title_df.copy()\n",
    "test_titlehour_df['hour'] = timeOfDay(test_df_raw.datetime.values)"
   ]
  },
  {
   "cell_type": "markdown",
   "id": "ce81cfb1",
   "metadata": {},
   "source": [
    "Finally, we create a dataset with `title`, `tag`, and `hour`."
   ]
  },
  {
   "cell_type": "code",
   "execution_count": 101,
   "id": "0cbc3a1a",
   "metadata": {},
   "outputs": [],
   "source": [
    "train_titletaghour_df = train_titletag_df.copy()\n",
    "train_titletaghour_df['hour'] = timeOfDay(train_df_raw.datetime.values)\n",
    "test_titletaghour_df = test_titletag_df.copy()\n",
    "test_titletaghour_df['hour'] = timeOfDay(test_df_raw.datetime.values)"
   ]
  },
  {
   "cell_type": "code",
   "execution_count": 73,
   "id": "d711812a",
   "metadata": {},
   "outputs": [],
   "source": [
    "# Since some posts do not have tags, we have to drop data points with NaN values.\n",
    "train_titletag_df.dropna(inplace=True)\n",
    "train_titletaghour_df.dropna(inplace=True)\n",
    "test_titletag_df.dropna(inplace=True)\n",
    "test_titletaghour_df.dropna(inplace=True)"
   ]
  },
  {
   "cell_type": "markdown",
   "id": "9d7d4c70",
   "metadata": {},
   "source": [
    "## Evaluations For Part 1 (Classification)"
   ]
  },
  {
   "cell_type": "markdown",
   "id": "eb8dc4c3",
   "metadata": {},
   "source": [
    "#### Evaluation on title-only dataset"
   ]
  },
  {
   "cell_type": "code",
   "execution_count": 43,
   "id": "590e6ac0",
   "metadata": {},
   "outputs": [
    {
     "name": "stdout",
     "output_type": "stream",
     "text": [
      "Accuracy on training set: 0.6777645659928656\n",
      "Accuracy on test set: 0.6099881093935791\n"
     ]
    }
   ],
   "source": [
    "# Model trainings\n",
    "from sklearn.linear_model import LogisticRegression\n",
    "from sklearn.ensemble import RandomForestClassifier\n",
    "from sklearn.svm import SVC\n",
    "from sklearn.metrics import accuracy_score\n",
    "\n",
    "# We have more features than the number of samples. Therefore, we use 'l1' regularization\n",
    "# to reduce the number of features invovled in the decision making.\n",
    "log_clf = LogisticRegression(penalty='l1', solver='liblinear')\n",
    "log_clf.fit(train_title_df.drop(['successful'], axis=1), train_title_df.successful)\n",
    "\n",
    "# Evaluations\n",
    "y_train_pred = log_clf.predict(train_title_df.drop(['successful'], axis=1))\n",
    "print(f'Accuracy on training set: {accuracy_score(train_title_df.successful.values, y_train_pred)}')\n",
    "y_test_pred = log_clf.predict(test_title_df.drop(['successful'], axis=1))\n",
    "print(f'Accuracy on test set: {accuracy_score(test_title_df.successful.values, y_test_pred)}')"
   ]
  },
  {
   "cell_type": "code",
   "execution_count": 44,
   "id": "35ad73b0",
   "metadata": {},
   "outputs": [
    {
     "name": "stdout",
     "output_type": "stream",
     "text": [
      "Accuracy on training set: 1.0\n",
      "Accuracy on test set: 0.7110582639714625\n"
     ]
    }
   ],
   "source": [
    "rf_clf = RandomForestClassifier(n_estimators=100, random_state=42)\n",
    "rf_clf.fit(train_title_df.drop(['successful'], axis=1), train_title_df.successful)\n",
    "\n",
    "# Evaluations\n",
    "y_train_pred = rf_clf.predict(train_title_df.drop(['successful'], axis=1))\n",
    "print(f'Accuracy on training set: {accuracy_score(train_title_df.successful.values, y_train_pred)}')\n",
    "y_test_pred = rf_clf.predict(test_title_df.drop(['successful'], axis=1))\n",
    "print(f'Accuracy on test set: {accuracy_score(test_title_df.successful.values, y_test_pred)}')"
   ]
  },
  {
   "cell_type": "code",
   "execution_count": 45,
   "id": "a055109c",
   "metadata": {},
   "outputs": [
    {
     "name": "stdout",
     "output_type": "stream",
     "text": [
      "Accuracy on training set: 0.9892984542211652\n",
      "Accuracy on test set: 0.7395957193816884\n"
     ]
    }
   ],
   "source": [
    "svc_clf = SVC(kernel='rbf')\n",
    "svc_clf.fit(train_title_df.drop(['successful'], axis=1), train_title_df.successful)\n",
    "\n",
    "# Evaluations\n",
    "y_train_pred = svc_clf.predict(train_title_df.drop(['successful'], axis=1))\n",
    "print(f'Accuracy on training set: {accuracy_score(train_title_df.successful.values, y_train_pred)}')\n",
    "y_test_pred = svc_clf.predict(test_title_df.drop(['successful'], axis=1))\n",
    "print(f'Accuracy on test set: {accuracy_score(test_title_df.successful.values, y_test_pred)}')"
   ]
  },
  {
   "cell_type": "markdown",
   "id": "f6ae749c",
   "metadata": {},
   "source": [
    "##### Deep neural network with embeddings\n",
    "This part is for demonstration of how a deep neural network can be built using an embedding layer for feature calculations.\n",
    "\n",
    "The important part is showing how to build a vocabulary and feed it to neural network model.\n",
    "\n",
    "The model here is built from scratch; we need many more data points for it to learn an efficient embedding. The better approach is to use a pretrained model as the base, and add this model as the top layer. Then we could use the dataset we have to fine-tune the top layers."
   ]
  },
  {
   "cell_type": "code",
   "execution_count": 47,
   "id": "d7ed365a",
   "metadata": {},
   "outputs": [
    {
     "data": {
      "text/plain": [
       "[('would', 293), ('like', 190), ('human', 170), ('earth', 167), ('get', 167)]"
      ]
     },
     "execution_count": 47,
     "metadata": {},
     "output_type": "execute_result"
    }
   ],
   "source": [
    "# Building a vocoabulary from titles.\n",
    "from collections import Counter\n",
    "\n",
    "vocabulary = Counter()\n",
    "for text in train_titles:\n",
    "    for word in text.split(' '):\n",
    "        vocabulary.update([word])\n",
    "\n",
    "vocabulary.most_common()[:5]"
   ]
  },
  {
   "cell_type": "code",
   "execution_count": 48,
   "id": "ec6c831d",
   "metadata": {},
   "outputs": [
    {
     "data": {
      "text/plain": [
       "<tf.Tensor: shape=(1, 5), dtype=int64, numpy=array([[6860, 6435, 7054,  554,  107]])>"
      ]
     },
     "execution_count": 48,
     "metadata": {},
     "output_type": "execute_result"
    }
   ],
   "source": [
    "import tensorflow as tf\n",
    "\n",
    "vocab_size = 10000\n",
    "num_oov_buckets = 1000\n",
    "\n",
    "truncated_vocabulary = [word for word, count in vocabulary.most_common()[:vocab_size]]\n",
    "words = tf.constant(truncated_vocabulary)\n",
    "word_ids = tf.range(len(truncated_vocabulary), dtype=tf.int64)\n",
    "vocab_init = tf.lookup.KeyValueTensorInitializer(words, word_ids)\n",
    "table = tf.lookup.StaticVocabularyTable(vocab_init, num_oov_buckets)\n",
    "\n",
    "table.lookup(tf.constant([b'This is a great test'.split()]))"
   ]
  },
  {
   "cell_type": "code",
   "execution_count": 49,
   "id": "ec31c0ab",
   "metadata": {},
   "outputs": [],
   "source": [
    "def encodeText(text, sentence_length=25):\n",
    "    words = text.split()\n",
    "    if len(words) < sentence_length:\n",
    "        words = words + ['<pad>'] * (sentence_length - len(words))\n",
    "    return table.lookup(tf.constant([words[:sentence_length]]))"
   ]
  },
  {
   "cell_type": "code",
   "execution_count": 50,
   "id": "b72c6b70",
   "metadata": {},
   "outputs": [
    {
     "name": "stdout",
     "output_type": "stream",
     "text": [
      "Model: \"sequential\"\n",
      "_________________________________________________________________\n",
      " Layer (type)                Output Shape              Param #   \n",
      "=================================================================\n",
      " embedding (Embedding)       (None, None, 128)         1408000   \n",
      "                                                                 \n",
      " dense (Dense)               (None, None, 512)         66048     \n",
      "                                                                 \n",
      " dropout (Dropout)           (None, None, 512)         0         \n",
      "                                                                 \n",
      " dense_1 (Dense)             (None, None, 256)         131328    \n",
      "                                                                 \n",
      " dropout_1 (Dropout)         (None, None, 256)         0         \n",
      "                                                                 \n",
      " dense_2 (Dense)             (None, None, 128)         32896     \n",
      "                                                                 \n",
      " dense_3 (Dense)             (None, None, 1)           129       \n",
      "                                                                 \n",
      "=================================================================\n",
      "Total params: 1,638,401\n",
      "Trainable params: 1,638,401\n",
      "Non-trainable params: 0\n",
      "_________________________________________________________________\n"
     ]
    }
   ],
   "source": [
    "from tensorflow import keras\n",
    "\n",
    "tf.random.set_seed(42)\n",
    "embed_size = 128\n",
    "\n",
    "model = keras.models.Sequential([\n",
    "    keras.layers.Embedding(vocab_size + num_oov_buckets, embed_size, input_shape=[None]),\n",
    "    keras.layers.Dense(512, activation='selu'),\n",
    "    keras.layers.Dropout(0.5),\n",
    "    keras.layers.Dense(256, activation='selu'),\n",
    "    keras.layers.Dropout(0.5),\n",
    "    keras.layers.Dense(128, activation='selu'),\n",
    "    keras.layers.Dense(1, activation='sigmoid')\n",
    "])\n",
    "\n",
    "model.summary()"
   ]
  },
  {
   "cell_type": "code",
   "execution_count": 52,
   "id": "7308a561",
   "metadata": {},
   "outputs": [
    {
     "name": "stdout",
     "output_type": "stream",
     "text": [
      "Epoch 1/5\n"
     ]
    },
    {
     "name": "stderr",
     "output_type": "stream",
     "text": [
      "2023-09-07 14:30:43.768275: W tensorflow/tsl/platform/profile_utils/cpu_utils.cc:128] Failed to get CPU frequency: 0 Hz\n"
     ]
    },
    {
     "name": "stdout",
     "output_type": "stream",
     "text": [
      "106/106 [==============================] - 1s 8ms/step - loss: 0.6926 - accuracy: 0.5490\n",
      "Epoch 2/5\n",
      "106/106 [==============================] - 1s 9ms/step - loss: 0.6821 - accuracy: 0.5837\n",
      "Epoch 3/5\n",
      "106/106 [==============================] - 1s 9ms/step - loss: 0.6702 - accuracy: 0.6036\n",
      "Epoch 4/5\n",
      "106/106 [==============================] - 1s 9ms/step - loss: 0.6615 - accuracy: 0.6112\n",
      "Epoch 5/5\n",
      "106/106 [==============================] - 1s 11ms/step - loss: 0.6583 - accuracy: 0.6085\n"
     ]
    }
   ],
   "source": [
    "model.compile(loss='binary_crossentropy', optimizer='rmsprop', metrics=['accuracy'])\n",
    "X_train_encoded = tf.convert_to_tensor(np.array([encodeText(text) for text in train_titles]).squeeze())\n",
    "y_train_encoded = np.asarray(train_title_df.successful.values).astype('float32').reshape((-1,1))\n",
    "history = model.fit(X_train_encoded, y_train_encoded, epochs=5)"
   ]
  },
  {
   "cell_type": "code",
   "execution_count": 53,
   "id": "df1d7ba0",
   "metadata": {},
   "outputs": [
    {
     "name": "stdout",
     "output_type": "stream",
     "text": [
      "27/27 [==============================] - 0s 3ms/step - loss: 0.6929 - accuracy: 0.5818\n"
     ]
    },
    {
     "data": {
      "text/plain": [
       "[0.6929308772087097, 0.5817835330963135]"
      ]
     },
     "execution_count": 53,
     "metadata": {},
     "output_type": "execute_result"
    }
   ],
   "source": [
    "X_test_encoded = tf.convert_to_tensor(np.array([encodeText(text) for text in test_titles]).squeeze())\n",
    "y_test_encoded = np.asarray(test_title_df.successful.values).astype('float32').reshape((-1,1))\n",
    "\n",
    "model.evaluate(X_test_encoded, y_test_encoded)"
   ]
  },
  {
   "cell_type": "markdown",
   "id": "2b13671b",
   "metadata": {},
   "source": [
    "As was expected, the DN model does not achieve high accuracy on either training set or test set. That means the model is underfitting the data."
   ]
  },
  {
   "cell_type": "markdown",
   "id": "dc6653dd",
   "metadata": {},
   "source": [
    "#### Evaluation on {title and body} dataset"
   ]
  },
  {
   "cell_type": "code",
   "execution_count": 74,
   "id": "6585be5d",
   "metadata": {},
   "outputs": [
    {
     "name": "stdout",
     "output_type": "stream",
     "text": [
      "Accuracy on training set: 0.6917360285374554\n",
      "Accuracy on test set: 0.6278240190249703\n"
     ]
    }
   ],
   "source": [
    "print(\"Logistic Regression\")\n",
    "log_clf = LogisticRegression(penalty='l1', solver='liblinear')\n",
    "log_clf.fit(train_titlebody_df.drop(['successful'], axis=1), train_titlebody_df.successful)\n",
    "\n",
    "# Evaluations\n",
    "y_train_pred = log_clf.predict(train_titlebody_df.drop(['successful'], axis=1))\n",
    "print(f'Accuracy on training set: {accuracy_score(train_titlebody_df.successful.values, y_train_pred)}')\n",
    "y_test_pred = log_clf.predict(test_titlebody_df.drop(['successful'], axis=1))\n",
    "print(f'Accuracy on test set: {accuracy_score(test_titlebody_df.successful.values, y_test_pred)}')"
   ]
  },
  {
   "cell_type": "code",
   "execution_count": 75,
   "id": "63aa54ec",
   "metadata": {},
   "outputs": [
    {
     "name": "stdout",
     "output_type": "stream",
     "text": [
      "Random Forest\n",
      "Accuracy on training set: 1.0\n",
      "Accuracy on test set: 0.7217598097502973\n"
     ]
    }
   ],
   "source": [
    "print(\"Random Forest\")\n",
    "rf_clf = RandomForestClassifier(n_estimators=100, random_state=42)\n",
    "rf_clf.fit(train_titlebody_df.drop(['successful'], axis=1), train_titlebody_df.successful)\n",
    "\n",
    "# Evaluations\n",
    "y_train_pred = rf_clf.predict(train_titlebody_df.drop(['successful'], axis=1))\n",
    "print(f'Accuracy on training set: {accuracy_score(train_titlebody_df.successful.values, y_train_pred)}')\n",
    "y_test_pred = rf_clf.predict(test_titlebody_df.drop(['successful'], axis=1))\n",
    "print(f'Accuracy on test set: {accuracy_score(test_titlebody_df.successful.values, y_test_pred)}')"
   ]
  },
  {
   "cell_type": "code",
   "execution_count": 76,
   "id": "596115b1",
   "metadata": {},
   "outputs": [
    {
     "name": "stdout",
     "output_type": "stream",
     "text": [
      "SVM + RBF kernel\n",
      "Accuracy on training set: 0.9907847800237812\n",
      "Accuracy on test set: 0.7288941736028538\n"
     ]
    }
   ],
   "source": [
    "print(\"SVM + RBF kernel\")\n",
    "svc_clf = SVC(kernel='rbf')\n",
    "svc_clf.fit(train_titlebody_df.drop(['successful'], axis=1), train_titlebody_df.successful)\n",
    "\n",
    "# Evaluations\n",
    "y_train_pred = svc_clf.predict(train_titlebody_df.drop(['successful'], axis=1))\n",
    "print(f'Accuracy on training set: {accuracy_score(train_titlebody_df.successful.values, y_train_pred)}')\n",
    "y_test_pred = svc_clf.predict(test_titlebody_df.drop(['successful'], axis=1))\n",
    "print(f'Accuracy on test set: {accuracy_score(test_titlebody_df.successful.values, y_test_pred)}')"
   ]
  },
  {
   "cell_type": "markdown",
   "id": "05052d01",
   "metadata": {},
   "source": [
    "#### Evaluation on {title and tag} dataset"
   ]
  },
  {
   "cell_type": "code",
   "execution_count": 77,
   "id": "bb57e9a0",
   "metadata": {},
   "outputs": [
    {
     "name": "stdout",
     "output_type": "stream",
     "text": [
      "Logistic Regression\n",
      "Accuracy on training set: 0.6932223543400713\n",
      "Accuracy on test set: 0.633769322235434\n"
     ]
    }
   ],
   "source": [
    "print(\"Logistic Regression\")\n",
    "log_clf = LogisticRegression(penalty='l1', solver='liblinear')\n",
    "log_clf.fit(train_titletag_df.drop(['successful'], axis=1), train_titletag_df.successful)\n",
    "\n",
    "# Evaluations\n",
    "y_train_pred = log_clf.predict(train_titletag_df.drop(['successful'], axis=1))\n",
    "print(f'Accuracy on training set: {accuracy_score(train_titletag_df.successful.values, y_train_pred)}')\n",
    "y_test_pred = log_clf.predict(test_titletag_df.drop(['successful'], axis=1))\n",
    "print(f'Accuracy on test set: {accuracy_score(test_titletag_df.successful.values, y_test_pred)}')"
   ]
  },
  {
   "cell_type": "code",
   "execution_count": 78,
   "id": "7e2707a3",
   "metadata": {},
   "outputs": [
    {
     "name": "stdout",
     "output_type": "stream",
     "text": [
      "Random Forest\n",
      "Accuracy on training set: 1.0\n",
      "Accuracy on test set: 0.7288941736028538\n"
     ]
    }
   ],
   "source": [
    "print(\"Random Forest\")\n",
    "rf_clf = RandomForestClassifier(n_estimators=100, random_state=42)\n",
    "rf_clf.fit(train_titletag_df.drop(['successful'], axis=1), train_titletag_df.successful)\n",
    "\n",
    "# Evaluations\n",
    "y_train_pred = rf_clf.predict(train_titletag_df.drop(['successful'], axis=1))\n",
    "print(f'Accuracy on training set: {accuracy_score(train_titletag_df.successful.values, y_train_pred)}')\n",
    "y_test_pred = rf_clf.predict(test_titletag_df.drop(['successful'], axis=1))\n",
    "print(f'Accuracy on test set: {accuracy_score(test_titletag_df.successful.values, y_test_pred)}')"
   ]
  },
  {
   "cell_type": "code",
   "execution_count": 79,
   "id": "e42ad801",
   "metadata": {},
   "outputs": [
    {
     "name": "stdout",
     "output_type": "stream",
     "text": [
      "SVM + RBF kernel\n",
      "Accuracy on training set: 0.9530321046373365\n",
      "Accuracy on test set: 0.7063020214030915\n"
     ]
    }
   ],
   "source": [
    "print(\"SVM + RBF kernel\")\n",
    "svc_clf = SVC(kernel='rbf')\n",
    "svc_clf.fit(train_titletag_df.drop(['successful'], axis=1), train_titletag_df.successful)\n",
    "\n",
    "# Evaluations\n",
    "y_train_pred = svc_clf.predict(train_titletag_df.drop(['successful'], axis=1))\n",
    "print(f'Accuracy on training set: {accuracy_score(train_titletag_df.successful.values, y_train_pred)}')\n",
    "y_test_pred = svc_clf.predict(test_titletag_df.drop(['successful'], axis=1))\n",
    "print(f'Accuracy on test set: {accuracy_score(test_titletag_df.successful.values, y_test_pred)}')"
   ]
  },
  {
   "cell_type": "markdown",
   "id": "2fe99865",
   "metadata": {},
   "source": [
    "#### Evaluation on {title and hour} dataset"
   ]
  },
  {
   "cell_type": "code",
   "execution_count": 80,
   "id": "e46ed8d6",
   "metadata": {},
   "outputs": [
    {
     "name": "stdout",
     "output_type": "stream",
     "text": [
      "Logistic Regression\n",
      "Accuracy on training set: 0.6843043995243757\n",
      "Accuracy on test set: 0.6254458977407847\n"
     ]
    }
   ],
   "source": [
    "print(\"Logistic Regression\")\n",
    "log_clf = LogisticRegression(penalty='l1', solver='liblinear')\n",
    "log_clf.fit(train_titlehour_df.drop(['successful'], axis=1), train_titlehour_df.successful)\n",
    "\n",
    "# Evaluations\n",
    "y_train_pred = log_clf.predict(train_titlehour_df.drop(['successful'], axis=1))\n",
    "print(f'Accuracy on training set: {accuracy_score(train_titlehour_df.successful.values, y_train_pred)}')\n",
    "y_test_pred = log_clf.predict(test_titlehour_df.drop(['successful'], axis=1))\n",
    "print(f'Accuracy on test set: {accuracy_score(test_titlehour_df.successful.values, y_test_pred)}')"
   ]
  },
  {
   "cell_type": "code",
   "execution_count": 81,
   "id": "e7181212",
   "metadata": {},
   "outputs": [
    {
     "name": "stdout",
     "output_type": "stream",
     "text": [
      "Random Forest\n",
      "Accuracy on training set: 1.0\n",
      "Accuracy on test set: 0.7360285374554102\n"
     ]
    }
   ],
   "source": [
    "print(\"Random Forest\")\n",
    "rf_clf = RandomForestClassifier(n_estimators=100, random_state=42)\n",
    "rf_clf.fit(train_titlehour_df.drop(['successful'], axis=1), train_titlehour_df.successful)\n",
    "\n",
    "# Evaluations\n",
    "y_train_pred = rf_clf.predict(train_titlehour_df.drop(['successful'], axis=1))\n",
    "print(f'Accuracy on training set: {accuracy_score(train_titlehour_df.successful.values, y_train_pred)}')\n",
    "y_test_pred = rf_clf.predict(test_titlehour_df.drop(['successful'], axis=1))\n",
    "print(f'Accuracy on test set: {accuracy_score(test_titlehour_df.successful.values, y_test_pred)}')"
   ]
  },
  {
   "cell_type": "code",
   "execution_count": 82,
   "id": "3ca199cc",
   "metadata": {},
   "outputs": [
    {
     "name": "stdout",
     "output_type": "stream",
     "text": [
      "SVM + RBF kernel\n",
      "Accuracy on training set: 0.6019619500594531\n",
      "Accuracy on test set: 0.5897740784780023\n"
     ]
    }
   ],
   "source": [
    "print(\"SVM + RBF kernel\")\n",
    "svc_clf = SVC(kernel='rbf')\n",
    "svc_clf.fit(train_titlehour_df.drop(['successful'], axis=1), train_titlehour_df.successful)\n",
    "\n",
    "# Evaluations\n",
    "y_train_pred = svc_clf.predict(train_titlehour_df.drop(['successful'], axis=1))\n",
    "print(f'Accuracy on training set: {accuracy_score(train_titlehour_df.successful.values, y_train_pred)}')\n",
    "y_test_pred = svc_clf.predict(test_titlehour_df.drop(['successful'], axis=1))\n",
    "print(f'Accuracy on test set: {accuracy_score(test_titlehour_df.successful.values, y_test_pred)}')"
   ]
  },
  {
   "cell_type": "markdown",
   "id": "c7f5330e",
   "metadata": {},
   "source": [
    "#### Evaluation on {title, tag, and hour} dataset"
   ]
  },
  {
   "cell_type": "code",
   "execution_count": 83,
   "id": "28706cd5",
   "metadata": {},
   "outputs": [
    {
     "name": "stdout",
     "output_type": "stream",
     "text": [
      "Logistic Regression\n",
      "Accuracy on training set: 0.6970868014268727\n",
      "Accuracy on test set: 0.6504161712247325\n"
     ]
    }
   ],
   "source": [
    "print(\"Logistic Regression\")\n",
    "log_clf = LogisticRegression(penalty='l1', solver='liblinear')\n",
    "log_clf.fit(train_titletaghour_df.drop(['successful'], axis=1), train_titletaghour_df.successful)\n",
    "\n",
    "# Evaluations\n",
    "y_train_pred = log_clf.predict(train_titletaghour_df.drop(['successful'], axis=1))\n",
    "print(f'Accuracy on training set: {accuracy_score(train_titletaghour_df.successful.values, y_train_pred)}')\n",
    "y_test_pred = log_clf.predict(test_titletaghour_df.drop(['successful'], axis=1))\n",
    "print(f'Accuracy on test set: {accuracy_score(test_titletaghour_df.successful.values, y_test_pred)}')"
   ]
  },
  {
   "cell_type": "code",
   "execution_count": 84,
   "id": "94f5a1a1",
   "metadata": {},
   "outputs": [
    {
     "name": "stdout",
     "output_type": "stream",
     "text": [
      "Random Forest\n",
      "Accuracy on training set: 1.0\n",
      "Accuracy on test set: 0.7502972651605232\n"
     ]
    }
   ],
   "source": [
    "print(\"Random Forest\")\n",
    "rf_clf = RandomForestClassifier(n_estimators=100, random_state=42)\n",
    "rf_clf.fit(train_titletaghour_df.drop(['successful'], axis=1), train_titletaghour_df.successful)\n",
    "\n",
    "# Evaluations\n",
    "y_train_pred = rf_clf.predict(train_titletaghour_df.drop(['successful'], axis=1))\n",
    "print(f'Accuracy on training set: {accuracy_score(train_titletaghour_df.successful.values, y_train_pred)}')\n",
    "y_test_pred = rf_clf.predict(test_titletaghour_df.drop(['successful'], axis=1))\n",
    "print(f'Accuracy on test set: {accuracy_score(test_titletaghour_df.successful.values, y_test_pred)}')"
   ]
  },
  {
   "cell_type": "code",
   "execution_count": 85,
   "id": "09fdd87a",
   "metadata": {},
   "outputs": [
    {
     "name": "stdout",
     "output_type": "stream",
     "text": [
      "SVM + RBF kernel\n",
      "Accuracy on training set: 0.6111771700356718\n",
      "Accuracy on test set: 0.6016646848989299\n"
     ]
    }
   ],
   "source": [
    "print(\"SVM + RBF kernel\")\n",
    "svc_clf = SVC(kernel='rbf')\n",
    "svc_clf.fit(train_titletaghour_df.drop(['successful'], axis=1), train_titletaghour_df.successful)\n",
    "\n",
    "# Evaluations\n",
    "y_train_pred = svc_clf.predict(train_titletaghour_df.drop(['successful'], axis=1))\n",
    "print(f'Accuracy on training set: {accuracy_score(train_titletaghour_df.successful.values, y_train_pred)}')\n",
    "y_test_pred = svc_clf.predict(test_titletaghour_df.drop(['successful'], axis=1))\n",
    "print(f'Accuracy on test set: {accuracy_score(test_titletaghour_df.successful.values, y_test_pred)}')"
   ]
  },
  {
   "cell_type": "markdown",
   "id": "24958639",
   "metadata": {},
   "source": [
    "## Evaluations For Part 2 (Regression)"
   ]
  },
  {
   "cell_type": "markdown",
   "id": "a4758de8",
   "metadata": {},
   "source": [
    "#### Preparing datasets for regression"
   ]
  },
  {
   "cell_type": "code",
   "execution_count": 102,
   "id": "e4701673",
   "metadata": {},
   "outputs": [],
   "source": [
    "train_title_df = train_title_df.drop(['successful'], axis=1)\n",
    "train_title_df['score'] = train_df_raw.score.values\n",
    "test_title_df = test_title_df.drop(['successful'], axis=1)\n",
    "test_title_df['score'] = test_df_raw.score.values"
   ]
  },
  {
   "cell_type": "code",
   "execution_count": 105,
   "id": "dbcfd19a",
   "metadata": {},
   "outputs": [],
   "source": [
    "train_titlebody_df.drop(['successful'], axis=1, inplace=True)\n",
    "train_titlebody_df['score'] = train_df_raw.score.values\n",
    "test_titlebody_df.drop(['successful'], axis=1, inplace=True)\n",
    "test_titlebody_df['score'] = test_df_raw.score.values"
   ]
  },
  {
   "cell_type": "code",
   "execution_count": 106,
   "id": "2dc388d9",
   "metadata": {},
   "outputs": [],
   "source": [
    "train_titletag_df.drop(['successful'], axis=1, inplace=True)\n",
    "train_titletag_df['score'] = train_df_raw.score.values\n",
    "test_titletag_df.drop(['successful'], axis=1, inplace=True)\n",
    "test_titletag_df['score'] = test_df_raw.score.values"
   ]
  },
  {
   "cell_type": "code",
   "execution_count": 107,
   "id": "496e260f",
   "metadata": {},
   "outputs": [],
   "source": [
    "train_titlehour_df.drop(['successful'], axis=1, inplace=True)\n",
    "train_titlehour_df['score'] = train_df_raw.score.values\n",
    "test_titlehour_df.drop(['successful'], axis=1, inplace=True)\n",
    "test_titlehour_df['score'] = test_df_raw.score.values"
   ]
  },
  {
   "cell_type": "code",
   "execution_count": 108,
   "id": "c5ab68e5",
   "metadata": {},
   "outputs": [],
   "source": [
    "train_titletaghour_df.drop(['successful'], axis=1, inplace=True)\n",
    "train_titletaghour_df['score'] = train_df_raw.score.values\n",
    "test_titletaghour_df.drop(['successful'], axis=1, inplace=True)\n",
    "test_titletaghour_df['score'] = test_df_raw.score.values"
   ]
  },
  {
   "cell_type": "code",
   "execution_count": 109,
   "id": "eb16235f",
   "metadata": {},
   "outputs": [],
   "source": [
    "# Since some posts do not have tags, we have to drop data points with NaN values.\n",
    "train_titletag_df.dropna(inplace=True)\n",
    "train_titletaghour_df.dropna(inplace=True)\n",
    "test_titletag_df.dropna(inplace=True)\n",
    "test_titletaghour_df.dropna(inplace=True)"
   ]
  },
  {
   "cell_type": "markdown",
   "id": "b97bb57e",
   "metadata": {},
   "source": [
    "### Evaluations"
   ]
  },
  {
   "cell_type": "markdown",
   "id": "a21ef18a",
   "metadata": {},
   "source": [
    "#### Evaluation on {title + body} dataset"
   ]
  },
  {
   "cell_type": "code",
   "execution_count": 110,
   "id": "2cb8e91b",
   "metadata": {},
   "outputs": [
    {
     "name": "stdout",
     "output_type": "stream",
     "text": [
      "Linear regression with L1 regularization\n",
      "rMSE on training set: 3220.4854077050695\n",
      "rMSE on test set: 5192.082642790545\n"
     ]
    }
   ],
   "source": [
    "from sklearn.linear_model import Lasso\n",
    "from sklearn.metrics import mean_squared_error\n",
    "\n",
    "print(\"Linear regression with L1 regularization\")\n",
    "lin_reg = Lasso()\n",
    "lin_reg.fit(train_titlebody_df.drop(['score'], axis=1), train_titlebody_df.score.values)\n",
    "\n",
    "y_pred = lin_reg.predict(train_titlebody_df.drop(['score'], axis=1))\n",
    "print(\"rMSE on training set: {}\".format(mean_squared_error(train_titlebody_df.score.values, y_pred, squared=False)))\n",
    "y_pred = lin_reg.predict(test_titlebody_df.drop(['score'], axis=1))\n",
    "print(\"rMSE on test set: {}\".format(mean_squared_error(test_titlebody_df.score.values, y_pred, squared=False)))"
   ]
  },
  {
   "cell_type": "code",
   "execution_count": 111,
   "id": "cb403e3f",
   "metadata": {},
   "outputs": [
    {
     "name": "stdout",
     "output_type": "stream",
     "text": [
      "Random Forest\n",
      "rMSE on training set: 1674.2776745600809\n",
      "rMSE on test set: 4685.70120377921\n"
     ]
    }
   ],
   "source": [
    "from sklearn.ensemble import RandomForestRegressor\n",
    "\n",
    "print(\"Random Forest\")\n",
    "rf_reg = RandomForestRegressor(n_estimators=100, min_samples_split=2, max_features=1.0, random_state=42)\n",
    "rf_reg.fit(train_titlebody_df.drop(['score'], axis=1), train_titlebody_df.score.values)\n",
    "\n",
    "y_pred = rf_reg.predict(train_titlebody_df.drop(['score'], axis=1))\n",
    "print(\"rMSE on training set: {}\".format(mean_squared_error(train_titlebody_df.score.values, y_pred, squared=False)))\n",
    "y_pred = rf_reg.predict(test_titlebody_df.drop(['score'], axis=1))\n",
    "print(\"rMSE on test set: {}\".format(mean_squared_error(test_titlebody_df.score.values, y_pred, squared=False)))"
   ]
  },
  {
   "cell_type": "code",
   "execution_count": 112,
   "id": "bf1194f5",
   "metadata": {},
   "outputs": [
    {
     "name": "stdout",
     "output_type": "stream",
     "text": [
      "SVM + RBF kernel\n",
      "rMSE on training set: 6601.498275472558\n",
      "rMSE on test set: 7030.440099895105\n"
     ]
    }
   ],
   "source": [
    "from sklearn.svm import SVR\n",
    "\n",
    "print(\"SVM + RBF kernel\")\n",
    "svr = SVR(kernel='rbf')\n",
    "svr.fit(train_titlebody_df.drop(['score'], axis=1), train_titlebody_df.score.values)\n",
    "\n",
    "y_pred = svr.predict(train_titlebody_df.drop(['score'], axis=1))\n",
    "print(\"rMSE on training set: {}\".format(mean_squared_error(train_titlebody_df.score.values, y_pred, squared=False)))\n",
    "y_pred = svr.predict(test_titlebody_df.drop(['score'], axis=1))\n",
    "print(\"rMSE on test set: {}\".format(mean_squared_error(test_titlebody_df.score.values, y_pred, squared=False)))"
   ]
  },
  {
   "cell_type": "markdown",
   "id": "97d3a71e",
   "metadata": {},
   "source": [
    "#### Evaluation on {title + tag}"
   ]
  },
  {
   "cell_type": "code",
   "execution_count": 119,
   "id": "0000e880",
   "metadata": {},
   "outputs": [
    {
     "name": "stdout",
     "output_type": "stream",
     "text": [
      "Linear regression with L1 regularization\n",
      "rMSE on training set: 3135.507634872323\n",
      "rMSE on test set: 5426.111290488777\n"
     ]
    }
   ],
   "source": [
    "print(\"Linear regression with L1 regularization\")\n",
    "lin_reg = Lasso()\n",
    "lin_reg.fit(train_titletag_df.drop(['score'], axis=1), train_titletag_df.score.values)\n",
    "\n",
    "y_pred = lin_reg.predict(train_titletag_df.drop(['score'], axis=1))\n",
    "print(\"rMSE on training set: {}\".format(mean_squared_error(train_titletag_df.score.values, y_pred, squared=False)))\n",
    "y_pred = lin_reg.predict(test_titletag_df.drop(['score'], axis=1))\n",
    "print(\"rMSE on test set: {}\".format(mean_squared_error(test_titletag_df.score.values, y_pred, squared=False)))"
   ]
  },
  {
   "cell_type": "code",
   "execution_count": 122,
   "id": "35ec7996",
   "metadata": {},
   "outputs": [
    {
     "name": "stdout",
     "output_type": "stream",
     "text": [
      "Random Forest\n",
      "rMSE on training set: 1663.8305016912539\n",
      "rMSE on test set: 4672.430810661432\n"
     ]
    }
   ],
   "source": [
    "print(\"Random Forest\")\n",
    "rf_reg = RandomForestRegressor(n_estimators=100, min_samples_split=2, max_features=1.0, random_state=42)\n",
    "rf_reg.fit(train_titletag_df.drop(['score'], axis=1), train_titletag_df.score.values)\n",
    "\n",
    "y_pred = rf_reg.predict(train_titletag_df.drop(['score'], axis=1))\n",
    "print(\"rMSE on training set: {}\".format(mean_squared_error(train_titletag_df.score.values, y_pred, squared=False)))\n",
    "y_pred = rf_reg.predict(test_titletag_df.drop(['score'], axis=1))\n",
    "print(\"rMSE on test set: {}\".format(mean_squared_error(test_titletag_df.score.values, y_pred, squared=False)))"
   ]
  },
  {
   "cell_type": "code",
   "execution_count": 123,
   "id": "954eb25c",
   "metadata": {},
   "outputs": [
    {
     "name": "stdout",
     "output_type": "stream",
     "text": [
      "SVM + RBF kernel\n",
      "rMSE on training set: 6598.622580577136\n",
      "rMSE on test set: 7027.517228162477\n"
     ]
    }
   ],
   "source": [
    "print(\"SVM + RBF kernel\")\n",
    "svr = SVR(kernel='rbf')\n",
    "svr.fit(train_titletag_df.drop(['score'], axis=1), train_titletag_df.score.values)\n",
    "\n",
    "y_pred = svr.predict(train_titletag_df.drop(['score'], axis=1))\n",
    "print(\"rMSE on training set: {}\".format(mean_squared_error(train_titletag_df.score.values, y_pred, squared=False)))\n",
    "y_pred = svr.predict(test_titletag_df.drop(['score'], axis=1))\n",
    "print(\"rMSE on test set: {}\".format(mean_squared_error(test_titletag_df.score.values, y_pred, squared=False)))"
   ]
  },
  {
   "cell_type": "markdown",
   "id": "ff15ab1c",
   "metadata": {},
   "source": [
    "#### Evaluation on {title + hour}"
   ]
  },
  {
   "cell_type": "code",
   "execution_count": 120,
   "id": "7d445b24",
   "metadata": {},
   "outputs": [
    {
     "name": "stdout",
     "output_type": "stream",
     "text": [
      "Linear regression with L1 regularization\n",
      "rMSE on training set: 3158.9485825313136\n",
      "rMSE on test set: 5483.62856628311\n"
     ]
    }
   ],
   "source": [
    "print(\"Linear regression with L1 regularization\")\n",
    "lin_reg = Lasso()\n",
    "lin_reg.fit(train_titlehour_df.drop(['score'], axis=1), train_titlehour_df.score.values)\n",
    "\n",
    "y_pred = lin_reg.predict(train_titlehour_df.drop(['score'], axis=1))\n",
    "print(\"rMSE on training set: {}\".format(mean_squared_error(train_titlehour_df.score.values, y_pred, squared=False)))\n",
    "y_pred = lin_reg.predict(test_titlehour_df.drop(['score'], axis=1))\n",
    "print(\"rMSE on test set: {}\".format(mean_squared_error(test_titlehour_df.score.values, y_pred, squared=False)))"
   ]
  },
  {
   "cell_type": "code",
   "execution_count": 124,
   "id": "18e7c212",
   "metadata": {},
   "outputs": [
    {
     "name": "stdout",
     "output_type": "stream",
     "text": [
      "Random Forest\n",
      "rMSE on training set: 1681.960758843889\n",
      "rMSE on test set: 4665.054585659561\n"
     ]
    }
   ],
   "source": [
    "print(\"Random Forest\")\n",
    "rf_reg = RandomForestRegressor(n_estimators=100, min_samples_split=2, max_features=1.0, random_state=42)\n",
    "rf_reg.fit(train_titlehour_df.drop(['score'], axis=1), train_titlehour_df.score.values)\n",
    "\n",
    "y_pred = rf_reg.predict(train_titlehour_df.drop(['score'], axis=1))\n",
    "print(\"rMSE on training set: {}\".format(mean_squared_error(train_titlehour_df.score.values, y_pred, squared=False)))\n",
    "y_pred = rf_reg.predict(test_titlehour_df.drop(['score'], axis=1))\n",
    "print(\"rMSE on test set: {}\".format(mean_squared_error(test_titlehour_df.score.values, y_pred, squared=False)))"
   ]
  },
  {
   "cell_type": "code",
   "execution_count": 125,
   "id": "e790f9a0",
   "metadata": {},
   "outputs": [
    {
     "name": "stdout",
     "output_type": "stream",
     "text": [
      "SVM + RBF kernel\n",
      "rMSE on training set: 6583.743024323937\n",
      "rMSE on test set: 7011.133369271167\n"
     ]
    }
   ],
   "source": [
    "print(\"SVM + RBF kernel\")\n",
    "svr = SVR(kernel='rbf')\n",
    "svr.fit(train_titlehour_df.drop(['score'], axis=1), train_titlehour_df.score.values)\n",
    "\n",
    "y_pred = svr.predict(train_titlehour_df.drop(['score'], axis=1))\n",
    "print(\"rMSE on training set: {}\".format(mean_squared_error(train_titlehour_df.score.values, y_pred, squared=False)))\n",
    "y_pred = svr.predict(test_titlehour_df.drop(['score'], axis=1))\n",
    "print(\"rMSE on test set: {}\".format(mean_squared_error(test_titlehour_df.score.values, y_pred, squared=False)))"
   ]
  },
  {
   "cell_type": "markdown",
   "id": "7330ea5e",
   "metadata": {},
   "source": [
    "#### Evaluation on {title + tag + hour}"
   ]
  },
  {
   "cell_type": "code",
   "execution_count": 121,
   "id": "806d8877",
   "metadata": {},
   "outputs": [
    {
     "name": "stdout",
     "output_type": "stream",
     "text": [
      "Linear regression with L1 regularization\n",
      "rMSE on training set: 3125.865106328158\n",
      "rMSE on test set: 5433.500187242344\n"
     ]
    }
   ],
   "source": [
    "print(\"Linear regression with L1 regularization\")\n",
    "lin_reg = Lasso()\n",
    "lin_reg.fit(train_titletaghour_df.drop(['score'], axis=1), train_titletaghour_df.score.values)\n",
    "\n",
    "y_pred = lin_reg.predict(train_titletaghour_df.drop(['score'], axis=1))\n",
    "print(\"rMSE on training set: {}\".format(mean_squared_error(train_titletaghour_df.score.values, y_pred, squared=False)))\n",
    "y_pred = lin_reg.predict(test_titletaghour_df.drop(['score'], axis=1))\n",
    "print(\"rMSE on test set: {}\".format(mean_squared_error(test_titletaghour_df.score.values, y_pred, squared=False)))"
   ]
  },
  {
   "cell_type": "code",
   "execution_count": 126,
   "id": "3b24fdaf",
   "metadata": {},
   "outputs": [
    {
     "name": "stdout",
     "output_type": "stream",
     "text": [
      "Random Forest\n",
      "rMSE on training set: 1653.7440846398833\n",
      "rMSE on test set: 4729.288976115762\n"
     ]
    }
   ],
   "source": [
    "print(\"Random Forest\")\n",
    "rf_reg = RandomForestRegressor(n_estimators=100, min_samples_split=2, max_features=1.0, random_state=42)\n",
    "rf_reg.fit(train_titletaghour_df.drop(['score'], axis=1), train_titletaghour_df.score.values)\n",
    "\n",
    "y_pred = rf_reg.predict(train_titletaghour_df.drop(['score'], axis=1))\n",
    "print(\"rMSE on training set: {}\".format(mean_squared_error(train_titletaghour_df.score.values, y_pred, squared=False)))\n",
    "y_pred = rf_reg.predict(test_titletaghour_df.drop(['score'], axis=1))\n",
    "print(\"rMSE on test set: {}\".format(mean_squared_error(test_titletaghour_df.score.values, y_pred, squared=False)))"
   ]
  },
  {
   "cell_type": "code",
   "execution_count": 127,
   "id": "b1276977",
   "metadata": {},
   "outputs": [
    {
     "name": "stdout",
     "output_type": "stream",
     "text": [
      "SVM + RBF kernel\n",
      "rMSE on training set: 6583.786410928867\n",
      "rMSE on test set: 7011.186127324637\n"
     ]
    }
   ],
   "source": [
    "print(\"SVM + RBF kernel\")\n",
    "svr = SVR(kernel='rbf')\n",
    "svr.fit(train_titletaghour_df.drop(['score'], axis=1), train_titletaghour_df.score.values)\n",
    "\n",
    "y_pred = svr.predict(train_titletaghour_df.drop(['score'], axis=1))\n",
    "print(\"rMSE on training set: {}\".format(mean_squared_error(train_titletaghour_df.score.values, y_pred, squared=False)))\n",
    "y_pred = svr.predict(test_titletaghour_df.drop(['score'], axis=1))\n",
    "print(\"rMSE on test set: {}\".format(mean_squared_error(test_titletaghour_df.score.values, y_pred, squared=False)))"
   ]
  },
  {
   "cell_type": "code",
   "execution_count": null,
   "id": "5771ba26",
   "metadata": {},
   "outputs": [],
   "source": []
  }
 ],
 "metadata": {
  "kernelspec": {
   "display_name": "Python 3 (ipykernel)",
   "language": "python",
   "name": "python3"
  },
  "language_info": {
   "codemirror_mode": {
    "name": "ipython",
    "version": 3
   },
   "file_extension": ".py",
   "mimetype": "text/x-python",
   "name": "python",
   "nbconvert_exporter": "python",
   "pygments_lexer": "ipython3",
   "version": "3.11.4"
  }
 },
 "nbformat": 4,
 "nbformat_minor": 5
}
